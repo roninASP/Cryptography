{
 "cells": [
  {
   "cell_type": "markdown",
   "id": "6d3671ca-820f-40cb-ae51-251997cb1507",
   "metadata": {},
   "source": [
    "# Vigenère Cipher encyption and decryption\n",
    "\n",
    "### Ronin Dupuy"
   ]
  },
  {
   "cell_type": "code",
   "execution_count": 24,
   "id": "7b995758-6447-46eb-893e-9e53dd95b69e",
   "metadata": {},
   "outputs": [],
   "source": [
    "import string"
   ]
  },
  {
   "cell_type": "markdown",
   "id": "c91cbf67-ad0c-4b7b-b8d6-230fe3296d06",
   "metadata": {},
   "source": [
    "### encryption "
   ]
  },
  {
   "cell_type": "code",
   "execution_count": 25,
   "id": "8adc5503-cd5e-4abb-9a86-ebf5d72967c7",
   "metadata": {},
   "outputs": [],
   "source": [
    "def encrypt(text,key):\n",
    "    # Note. Messages with spaces ' ' not supported\n",
    "    list_text = list(text.upper())\n",
    "    list_key = list(key.upper())\n",
    "    \n",
    "    # Repeat the key phrase for as long as the text\n",
    "    repeated_key = [list_key[(n % len(list_key))] for n in range(len(list_text))]\n",
    "\n",
    "    # Create a dicts for {letters : numbers} (a=0,b=1,...,z=25)\n",
    "    ## letters to numbers\n",
    "    dct1 = dict(zip(string.ascii_uppercase,[n for n in range(0,26)]))\n",
    "    ## numbers to letters\n",
    "    dct2 = dict(zip([n for n in range(0,26)],string.ascii_uppercase))\n",
    "    \n",
    "    # Transalte the list of the text and list of the repeated key into lists of numbers\n",
    "    nums_text = [dct1.get(item, item) for item in list_text]\n",
    "    nums_key = [dct1.get(item, item) for item in repeated_key]\n",
    "    \n",
    "    # Use the formula c_i = (p_i + k_i) mod 26 for encryption\n",
    "    sum_encrypt = [(nums_text[i] + nums_key[i]) % 26 for i in range(len(nums_text))]\n",
    "    \n",
    "    # Translate numbers back into letters\n",
    "    letter_encrypt = [dct2.get(item, item) for item in sum_encrypt]\n",
    "    \n",
    "    # Make list a string\n",
    "    out = \"\".join(letter_encrypt)\n",
    "    \n",
    "    #output string\n",
    "    return out"
   ]
  },
  {
   "cell_type": "markdown",
   "id": "8e88b3f8-a880-4678-bbf1-ffe255d08a8c",
   "metadata": {},
   "source": [
    "### Test Cases"
   ]
  },
  {
   "cell_type": "code",
   "execution_count": 26,
   "id": "54f20090-8f70-451e-a3ca-380db0421480",
   "metadata": {},
   "outputs": [
    {
     "data": {
      "text/plain": [
       "''"
      ]
     },
     "execution_count": 26,
     "metadata": {},
     "output_type": "execute_result"
    }
   ],
   "source": [
    "encrypt(\"\",\"key\")"
   ]
  },
  {
   "cell_type": "code",
   "execution_count": 27,
   "id": "47801106-2eef-4edb-98a7-d99184737c72",
   "metadata": {},
   "outputs": [
    {
     "data": {
      "text/plain": [
       "'RIJVS'"
      ]
     },
     "execution_count": 27,
     "metadata": {},
     "output_type": "execute_result"
    }
   ],
   "source": [
    "encrypt(\"Hello\",\"key\")"
   ]
  },
  {
   "cell_type": "code",
   "execution_count": 28,
   "id": "dbee8cd2-b9af-4a9f-a401-c83e8bd6f32e",
   "metadata": {},
   "outputs": [
    {
     "data": {
      "text/plain": [
       "'VHXSUBEKUTOPPFHZ'"
      ]
     },
     "execution_count": 28,
     "metadata": {},
     "output_type": "execute_result"
    }
   ],
   "source": [
    "encrypt(\"TheQuickBrownFox\",\"CAT\")"
   ]
  },
  {
   "cell_type": "markdown",
   "id": "3efd7603-d23e-4a0c-a217-c0b603d647d4",
   "metadata": {},
   "source": [
    "### Decryption"
   ]
  },
  {
   "cell_type": "code",
   "execution_count": 29,
   "id": "876795a4-9207-4bdd-8645-cbaac4f0dda6",
   "metadata": {},
   "outputs": [],
   "source": [
    "def decrypt(text,key):\n",
    "    # Note. Messages with spaces ' ' not supported\n",
    "    list_text = list(text.upper())\n",
    "    list_key = list(key.upper())\n",
    "    \n",
    "    # Repeat the key phrase for as long as the text\n",
    "    repeated_key = [list_key[(n % len(list_key))] for n in range(len(list_text))]\n",
    "\n",
    "    # Create a dicts for {letters : numbers} (a=0,b=1,...,z=25)\n",
    "    ## letters to numbers\n",
    "    dct1 = dict(zip(string.ascii_uppercase,[n for n in range(0,26)]))\n",
    "    ## numbers to letters\n",
    "    dct2 = dict(zip([n for n in range(0,26)],string.ascii_uppercase))\n",
    "    \n",
    "    # Transalte the list of the text and list of the repeated key into lists of numbers\n",
    "    nums_text = [dct1.get(item, item) for item in list_text]\n",
    "    nums_key = [dct1.get(item, item) for item in repeated_key]\n",
    "    \n",
    "    # Use the formula c_i = (p_i - k_i) mod 26 for decryption\n",
    "    sum_decrypt = [(nums_text[i] - nums_key[i]) % 26 for i in range(len(nums_text))]\n",
    "    \n",
    "    # Translate numbers back into letters\n",
    "    letter_decrypt = [dct2.get(item, item) for item in sum_decrypt]\n",
    "    \n",
    "    # Make list a string\n",
    "    out = \"\".join(letter_decrypt)\n",
    "    \n",
    "    #output string\n",
    "    return out"
   ]
  },
  {
   "cell_type": "code",
   "execution_count": 30,
   "id": "44f8323d-589c-45e6-82f0-b49730e3413e",
   "metadata": {},
   "outputs": [
    {
     "data": {
      "text/plain": [
       "''"
      ]
     },
     "execution_count": 30,
     "metadata": {},
     "output_type": "execute_result"
    }
   ],
   "source": [
    "decrypt(\"\",\"key\")"
   ]
  },
  {
   "cell_type": "code",
   "execution_count": 31,
   "id": "df067094-9483-454a-9ba8-aebfbc7853b3",
   "metadata": {},
   "outputs": [
    {
     "data": {
      "text/plain": [
       "'HELLO'"
      ]
     },
     "execution_count": 31,
     "metadata": {},
     "output_type": "execute_result"
    }
   ],
   "source": [
    "decrypt(\"rijvs\",\"key\")"
   ]
  },
  {
   "cell_type": "code",
   "execution_count": 32,
   "id": "f9ec1490-74c8-4da7-8d11-289c400753cd",
   "metadata": {},
   "outputs": [
    {
     "data": {
      "text/plain": [
       "'THEQUICKBROWNFOX'"
      ]
     },
     "execution_count": 32,
     "metadata": {},
     "output_type": "execute_result"
    }
   ],
   "source": [
    "decrypt(\"VHXSUBEKUTOPPFHZ\",\"CAT\")"
   ]
  }
 ],
 "metadata": {
  "kernelspec": {
   "display_name": "Python 3 (ipykernel)",
   "language": "python",
   "name": "python3"
  },
  "language_info": {
   "codemirror_mode": {
    "name": "ipython",
    "version": 3
   },
   "file_extension": ".py",
   "mimetype": "text/x-python",
   "name": "python",
   "nbconvert_exporter": "python",
   "pygments_lexer": "ipython3",
   "version": "3.13.5"
  }
 },
 "nbformat": 4,
 "nbformat_minor": 5
}
